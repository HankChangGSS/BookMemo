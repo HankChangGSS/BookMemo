{
 "cells": [
  {
   "cell_type": "markdown",
   "metadata": {},
   "source": [
    "<issue1>\n",
    "need to   pip install box2d-py\n",
    "\n",
    "<issue2>\n",
    "'ImageData' object has no attribute 'data'\n",
    "\n",
    "https://stackoverflow.com/questions/56946417/getting-attributeerror-imagedata-object-has-no-attribute-data-in-headle\n",
    "I encountered the same issue. Installing pyglet-v1.3.2 instead of v1.4.1 solved the issue for me.\n",
    "\n",
    "\n",
    "(universe) hcc@hcc-virtual-machine:~$ pip uninstall pyglet -y\n",
    "(universe) hcc@hcc-virtual-machine:~$ pip install pyglet==1.3.2\n",
    "(universe) hcc@hcc-virtual-machine:~$ conda list"
   ]
  },
  {
   "cell_type": "code",
   "execution_count": null,
   "metadata": {},
   "outputs": [],
   "source": [
    "import gym\n",
    "env = gym.make('CarRacing-v0')\n",
    "env.reset()\n",
    "for _ in range(1000):\n",
    "    env.render()\n",
    "    env.step(env.action_space.sample())"
   ]
  },
  {
   "cell_type": "code",
   "execution_count": null,
   "metadata": {},
   "outputs": [],
   "source": []
  }
 ],
 "metadata": {
  "kernelspec": {
   "display_name": "Python 3",
   "language": "python",
   "name": "python3"
  },
  "language_info": {
   "codemirror_mode": {
    "name": "ipython",
    "version": 3
   },
   "file_extension": ".py",
   "mimetype": "text/x-python",
   "name": "python",
   "nbconvert_exporter": "python",
   "pygments_lexer": "ipython3",
   "version": "3.6.8"
  }
 },
 "nbformat": 4,
 "nbformat_minor": 2
}
